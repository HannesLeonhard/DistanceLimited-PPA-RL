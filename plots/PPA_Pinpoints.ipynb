{
 "cells": [
  {
   "cell_type": "code",
   "execution_count": null,
   "metadata": {
    "collapsed": true
   },
   "outputs": [],
   "source": [
    "# plot data\n",
    "import numpy as np\n",
    "import pandas as pd\n",
    "from matplotlib import pyplot as plt\n",
    "import seaborn\n",
    "seaborn.set()\n",
    "\n",
    "plt.style.use(\"plots/subfigure.mplstyle\")\n",
    "\n",
    "# number_rows = 5000000\n",
    "monitor_df = pd.read_csv(\"logs/supgoal_analytics_logs_monitor.csv\", delimiter=',', skiprows=1)\n",
    "monitor_df"
   ]
  },
  {
   "cell_type": "code",
   "execution_count": null,
   "outputs": [],
   "source": [
    "monitor_df['taskid'] = -1\n",
    "monitor_df['time_trunctuated'] = np.where(monitor_df['time_trunctuated'], 1, 0)\n",
    "monitor_df.to_csv('plots/monitor_prepared.csv')\n",
    "monitor = np.loadtxt(\"plots/monitor_prepared.csv\", delimiter=',', skiprows=1)"
   ],
   "metadata": {
    "collapsed": false,
    "pycharm": {
     "name": "#%%\n"
    }
   }
  },
  {
   "cell_type": "code",
   "execution_count": null,
   "outputs": [],
   "source": [
    "fig, ax = plt.subplots(constrained_layout=True)\n",
    "\n",
    "values_combined = 100\n",
    "\n",
    "# time steps:\n",
    "x_time_steps_values = monitor[:, 0]\n",
    "size = len(x_time_steps_values) - (len(x_time_steps_values) % values_combined) # 103500\n",
    "x_time_steps_values = x_time_steps_values[:size]\n",
    "x_time_steps_values = x_time_steps_values.reshape((int(len(x_time_steps_values)/values_combined), values_combined))\n",
    "x_time_steps_values = np.amax(x_time_steps_values, axis=1)\n",
    "\n",
    "monitor = monitor[:size]\n",
    "# success rate:\n",
    "a_star_timeout = monitor[:, 8]\n",
    "a_star_timeout = a_star_timeout / 3\n",
    "a_star_timeout = a_star_timeout.reshape((int(size/values_combined), values_combined))\n",
    "average_a_star_timeout = np.average(a_star_timeout, axis=1)\n",
    "\n",
    "#print(max(average_success_rates))\n",
    "ax.plot(x_time_steps_values, average_a_star_timeout, linewidth=1.0, label=\"Success Rate\")\n",
    "ax.set_xlabel(\"Subgoal Environment Steps\")\n",
    "ax.set_ylabel(\"Share of A* Finding no path\")\n",
    "plt.savefig(\"plots/PPA-RL Investigation/A_star_timeout.pdf\")\n",
    "plt.show()"
   ],
   "metadata": {
    "collapsed": false,
    "pycharm": {
     "name": "#%%\n"
    }
   }
  },
  {
   "cell_type": "code",
   "execution_count": null,
   "outputs": [],
   "source": [
    "fig, ax = plt.subplots(constrained_layout=True)\n",
    "\n",
    "values_combined = 100\n",
    "\n",
    "# time steps:\n",
    "x_time_steps_values = monitor[:, 0]\n",
    "size = len(x_time_steps_values) - (len(x_time_steps_values) % values_combined) # 103500\n",
    "x_time_steps_values = x_time_steps_values[:size]\n",
    "x_time_steps_values = x_time_steps_values.reshape((int(len(x_time_steps_values)/values_combined), values_combined))\n",
    "x_time_steps_values = np.amax(x_time_steps_values, axis=1)\n",
    "\n",
    "monitor = monitor[:size]\n",
    "# success rate:\n",
    "distance = monitor[:, 10]\n",
    "distance = distance.reshape((int(size/values_combined), values_combined))\n",
    "average_distance = np.average(distance, axis=1)\n",
    "\n",
    "#print(max(average_success_rates))\n",
    "ax.plot(x_time_steps_values, average_distance, linewidth=1.0, label=\"Success Rate\")\n",
    "ax.set_xlabel(\"Subgoal Environment Steps\")\n",
    "ax.set_ylabel(\"Distance to subgoal\")\n",
    "plt.savefig(\"plots/PPA-RL Investigation/distance_to_goal.pdf\")\n",
    "plt.show()"
   ],
   "metadata": {
    "collapsed": false,
    "pycharm": {
     "name": "#%%\n"
    }
   }
  },
  {
   "cell_type": "code",
   "execution_count": null,
   "outputs": [],
   "source": [
    "fig, ax = plt.subplots(constrained_layout=True)\n",
    "\n",
    "values_combined = 100\n",
    "\n",
    "# time steps:\n",
    "x_time_steps_values = monitor[:, 0]\n",
    "size = len(x_time_steps_values) - (len(x_time_steps_values) % values_combined) # 103500\n",
    "x_time_steps_values = x_time_steps_values[:size]\n",
    "x_time_steps_values = x_time_steps_values.reshape((int(len(x_time_steps_values)/values_combined), values_combined))\n",
    "x_time_steps_values = np.amax(x_time_steps_values, axis=1)\n",
    "\n",
    "monitor = monitor[:size]\n",
    "# success rate:\n",
    "successes = monitor[:, 6]\n",
    "successes = successes.reshape((int(size/values_combined), values_combined))\n",
    "average_success_rates = np.average(successes, axis=1)\n",
    "\n",
    "average_success_rates = average_success_rates*100\n",
    "ax.plot(x_time_steps_values, average_success_rates, linewidth=1.0, label=\"Success Rate\")\n",
    "ax.set_ylim([-5, 105])\n",
    "ax.set_xlabel(\"Subgoal Environment Steps\")\n",
    "ax.set_ylabel(\"Success Rate (%)\")\n",
    "# plt.legend(loc=\"upper right\")\n",
    "# plt.savefig(\"plots/finished_pdf_plots/obstacle_subgoal_env.pdf\")\n",
    "plt.show()"
   ],
   "metadata": {
    "collapsed": false,
    "pycharm": {
     "name": "#%%\n"
    }
   }
  }
 ],
 "metadata": {
  "kernelspec": {
   "display_name": "Python 3",
   "language": "python",
   "name": "python3"
  },
  "language_info": {
   "codemirror_mode": {
    "name": "ipython",
    "version": 2
   },
   "file_extension": ".py",
   "mimetype": "text/x-python",
   "name": "python",
   "nbconvert_exporter": "python",
   "pygments_lexer": "ipython2",
   "version": "2.7.6"
  }
 },
 "nbformat": 4,
 "nbformat_minor": 0
}